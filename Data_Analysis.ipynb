{
  "nbformat": 4,
  "nbformat_minor": 0,
  "metadata": {
    "colab": {
      "provenance": [],
      "authorship_tag": "ABX9TyMU1eKH1wDmz/PrsfHzOp6b",
      "include_colab_link": true
    },
    "kernelspec": {
      "name": "python3",
      "display_name": "Python 3"
    },
    "language_info": {
      "name": "python"
    }
  },
  "cells": [
    {
      "cell_type": "markdown",
      "metadata": {
        "id": "view-in-github",
        "colab_type": "text"
      },
      "source": [
        "<a href=\"https://colab.research.google.com/github/AsmaeKarmouchi/AI-interview-prep/blob/main/Data_Analysis.ipynb\" target=\"_parent\"><img src=\"https://colab.research.google.com/assets/colab-badge.svg\" alt=\"Open In Colab\"/></a>"
      ]
    },
    {
      "cell_type": "markdown",
      "source": [
        "# **Python Libraries for Data Analysis**"
      ],
      "metadata": {
        "id": "WdCsP9zuvSL1"
      }
    },
    {
      "cell_type": "markdown",
      "source": [
        "\n",
        "\n",
        "**1.Exploring the Fundamentals of NumPy Arrays in Python**\n",
        "\n"
      ],
      "metadata": {
        "id": "Qw_NwAortviR"
      }
    },
    {
      "cell_type": "code",
      "execution_count": 1,
      "metadata": {
        "colab": {
          "base_uri": "https://localhost:8080/"
        },
        "id": "vSKjGe58ttG-",
        "outputId": "7d25b86c-ddc4-4a1c-cb97-76eb8b56ae0d"
      },
      "outputs": [
        {
          "output_type": "stream",
          "name": "stdout",
          "text": [
            "Rocket Fuel Tanks:\n",
            " [[6 4]\n",
            " [5 7]]\n",
            "\n",
            "Size of Rocket Fuel Tanks: 4\n",
            "Shape of Rocket Fuel Tanks: (2, 2)\n",
            "Data type of Rocket Fuel Tanks: int64\n"
          ]
        }
      ],
      "source": [
        "import numpy as np\n",
        "\n",
        "rocket_fuel_tanks = np.array([[6, 4], [5, 7]])\n",
        "\n",
        "print(\"Rocket Fuel Tanks:\\n\", rocket_fuel_tanks)\n",
        "\n",
        "print(\"\\nSize of Rocket Fuel Tanks:\", rocket_fuel_tanks.size)\n",
        "print(\"Shape of Rocket Fuel Tanks:\", rocket_fuel_tanks.shape)\n",
        "print(\"Data type of Rocket Fuel Tanks:\", rocket_fuel_tanks.dtype)"
      ]
    },
    {
      "cell_type": "code",
      "source": [
        "import numpy as np\n",
        "\n",
        "# Assume we have four solar panels  2D numpy array with 2 rows.\n",
        "grid_power = np.array([[500, 700], [700, 900]])\n",
        "\n",
        "# Print the array\n",
        "print(\"\\nSpaceship Grid Power:\", grid_power)\n",
        "\n",
        "# Display the size, shape, and data type of our array\n",
        "print(\"Size of Spaceship Grid Power Array:\", grid_power.size)\n",
        "print(\"Shape of Spaceship Grid Power Array:\", grid_power.shape)\n",
        "print(\"Data type of Spaceship Grid Power Array:\", grid_power.dtype)"
      ],
      "metadata": {
        "id": "K8dTQ6x2uTJH"
      },
      "execution_count": null,
      "outputs": []
    },
    {
      "cell_type": "markdown",
      "source": [
        "**2.Unpacking Data Selection Techniques in NumPy Arrays**"
      ],
      "metadata": {
        "id": "bNStQ5CnvaVo"
      }
    },
    {
      "cell_type": "code",
      "source": [
        "import numpy as np\n",
        "\n",
        "# Create a NumPy array of wage per hour\n",
        "wages_per_hour = np.array([14, 16, 20, 22, 25, 28, 30, 35, 38, 40, 45, 50])\n",
        "\n",
        "# Select wages greater than 30 per hour\n",
        "print(wages_per_hour[wages_per_hour > 30])\n",
        "#-------------------------------------------------------\n",
        "\n",
        "# Create a NumPy array of ages\n",
        "ages = np.array([15, 18, 16, 19, 36, 34, 27, 21, 23, 25])\n",
        "\n",
        "# Select adult(s age under 30 years\n",
        "adults = ages[(ages > 18) & (ages < 30)]\n",
        "print(\"Adults:\", adults)\n",
        "#-------------------------------------------------------\n",
        "\n",
        "# Create a NumPy array\n",
        "weight = np.array([12, 15, 11, 9, 23, 10, 12, 20, 25, 25, 8, 15, 4])\n",
        "\n",
        "# TODO: Select weights greater than 20 or less than 10\n",
        "\n",
        "weight_analysis = weight[(weight > 20) | (weight < 10)]\n",
        "\n",
        "print(weight_analysis)"
      ],
      "metadata": {
        "colab": {
          "base_uri": "https://localhost:8080/"
        },
        "id": "1qAk_cIJvfDZ",
        "outputId": "fb97468f-cce9-4471-bd72-5c0cc2b9270e"
      },
      "execution_count": 2,
      "outputs": [
        {
          "output_type": "stream",
          "name": "stdout",
          "text": [
            "[35 38 40 45 50]\n"
          ]
        }
      ]
    },
    {
      "cell_type": "code",
      "source": [
        "import numpy as np\n",
        "\n",
        "badges = np.array([12, 14, 15, 20, 32, 33, 40, 42])\n",
        "\n",
        "# TODO: Using a condition-based selection, filter badges that has even number lower than 33\n",
        "f = badges[(badges < 33) & (badges % 2 == 0)][:3]\n",
        "# TODO: Print the filtered numbers.\n",
        "print(f)"
      ],
      "metadata": {
        "colab": {
          "base_uri": "https://localhost:8080/"
        },
        "id": "Uc-0s5aZh_aj",
        "outputId": "d7b7884d-ecb9-42b5-b894-82ad2c79c5d0"
      },
      "execution_count": 1,
      "outputs": [
        {
          "output_type": "stream",
          "name": "stdout",
          "text": [
            "[12 14 20]\n"
          ]
        }
      ]
    },
    {
      "cell_type": "markdown",
      "source": [
        "**Arithmetic Operations with NumPy Arrays**\n",
        "- Two arrays of the same shape can undergo basic arithmetic operations.\n",
        "- NumPy's Universal Functions (also called ufuncs) perform element-wise operations on arrays, including mathematical functions like sin, cos, log, and sqrt.\n",
        "- NumPy allows the application of a custom function to each element of the array separately by transforming the target function with np.vectorize"
      ],
      "metadata": {
        "id": "Tc0j6G47isWd"
      }
    },
    {
      "cell_type": "code",
      "source": [
        "import numpy as np\n",
        "\n",
        "# Function to calculate percentage marks\n",
        "def percentage_calc(percentage_marks):\n",
        "    return (percentage_marks * 100) / 75\n",
        "\n",
        "# Array of raw marks\n",
        "raw_marks = np.array([35, 48, 60, 72, 75])\n",
        "\n",
        "# Compute percentage using our function\n",
        "percentage_calc = np.vectorize(percentage_calc)\n",
        "percentage_marks = percentage_calc(raw_marks)\n",
        "\n",
        "print(\"Raw Marks: \", raw_marks)\n",
        "print(\"Percentage Marks: \", percentage_marks)"
      ],
      "metadata": {
        "colab": {
          "base_uri": "https://localhost:8080/"
        },
        "id": "t28NsYiLi8gi",
        "outputId": "23b15cd2-ecd2-464b-bf67-bf1e88e8a562"
      },
      "execution_count": 2,
      "outputs": [
        {
          "output_type": "stream",
          "name": "stdout",
          "text": [
            "Raw Marks:  [35 48 60 72 75]\n",
            "Percentage Marks:  [ 46.66666667  64.          80.          96.         100.        ]\n"
          ]
        }
      ]
    },
    {
      "cell_type": "code",
      "source": [
        "import numpy as np\n",
        "\n",
        "# Function to calculate the discount price\n",
        "def discount_price(price):\n",
        "    if price > 350:\n",
        "        return price - (price * 0.30)  # 30% discount for prices > 350\n",
        "    else:\n",
        "        return price - (price * 0.20)  # 20% discount otherwise\n",
        "\n",
        "# Array of original prices\n",
        "prices = np.array([100, 200, 300, 400, 500])\n",
        "\n",
        "# Apply the function to the whole array\n",
        "discounted_price = np.vectorize(discount_price)\n",
        "discounted_prices = discounted_price(prices)\n",
        "\n",
        "# Display results\n",
        "print(\"Original Prices: \", prices)\n",
        "print(\"Discounted Prices: \", discounted_prices)\n"
      ],
      "metadata": {
        "colab": {
          "base_uri": "https://localhost:8080/"
        },
        "id": "Cq8WUnTpi8dE",
        "outputId": "9ded7d57-9d42-4d51-90bd-91603717ca25"
      },
      "execution_count": 3,
      "outputs": [
        {
          "output_type": "stream",
          "name": "stdout",
          "text": [
            "Original Prices:  [100 200 300 400 500]\n",
            "Discounted Prices:  [ 80. 160. 240. 280. 350.]\n"
          ]
        }
      ]
    },
    {
      "cell_type": "code",
      "source": [],
      "metadata": {
        "id": "Z69b07b6kLkA"
      },
      "execution_count": null,
      "outputs": []
    }
  ]
}